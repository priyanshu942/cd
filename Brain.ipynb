{
 "cells": [
  {
   "cell_type": "code",
   "execution_count": 5,
   "id": "f7113868",
   "metadata": {},
   "outputs": [],
   "source": [
    "import tensorflow as tf\n",
    "from tensorflow.keras import layers, models\n",
    "from tensorflow.keras.preprocessing.image import ImageDataGenerator\n",
    "import matplotlib.pyplot as plt\n",
    "\n",
    "# Define the path to your dataset\n",
    "train_dir = r'C:\\Users\\chain\\Downloads\\brain tumour\\Training'\n",
    "test_dir = r'C:\\Users\\chain\\Downloads\\brain tumour\\Testing'\n",
    "\n",
    "# Define parameters\n",
    "batch_size = 32\n",
    "img_height, img_width = 150, 150\n",
    "epochs = 10\n"
   ]
  },
  {
   "cell_type": "code",
   "execution_count": 6,
   "id": "c944f8f5",
   "metadata": {},
   "outputs": [],
   "source": [
    "train_datagen = ImageDataGenerator(\n",
    "    rescale=1./255,\n",
    "    shear_range=0.2,\n",
    "    zoom_range=0.2,\n",
    "    horizontal_flip=True,\n",
    ")\n",
    "\n",
    "test_datagen = ImageDataGenerator(rescale=1./255)\n",
    "\n",
    "# Define class subfolders\n",
    "classes = ['glioma_tumor', 'meningioma_tumor', 'no_tumor', 'pituitary_tumor']"
   ]
  },
  {
   "cell_type": "code",
   "execution_count": 7,
   "id": "dafaeca1",
   "metadata": {},
   "outputs": [
    {
     "name": "stdout",
     "output_type": "stream",
     "text": [
      "Found 2870 images belonging to 4 classes.\n",
      "Found 394 images belonging to 4 classes.\n"
     ]
    }
   ],
   "source": [
    "train_generator = train_datagen.flow_from_directory(\n",
    "    train_dir,\n",
    "    target_size=(img_height, img_width),\n",
    "    batch_size=batch_size,\n",
    "    class_mode='categorical',  \n",
    "    classes=classes\n",
    ")\n",
    "\n",
    "test_generator = test_datagen.flow_from_directory(\n",
    "    test_dir,\n",
    "    target_size=(img_height, img_width),\n",
    "    batch_size=batch_size,\n",
    "    class_mode='categorical',\n",
    "    classes=classes\n",
    ")\n"
   ]
  },
  {
   "cell_type": "code",
   "execution_count": 8,
   "id": "879ac9c0",
   "metadata": {},
   "outputs": [],
   "source": [
    "model = models.Sequential()\n",
    "model.add(layers.Conv2D(32, (3, 3), activation='relu', input_shape=(img_height, img_width, 3)))\n",
    "model.add(layers.MaxPooling2D((2, 2)))\n",
    "model.add(layers.Conv2D(64, (3, 3), activation='relu'))\n",
    "model.add(layers.MaxPooling2D((2, 2)))\n",
    "model.add(layers.Conv2D(128, (3, 3), activation='relu'))\n",
    "model.add(layers.MaxPooling2D((2, 2)))\n",
    "model.add(layers.Flatten())\n",
    "model.add(layers.Dense(128, activation='relu'))\n",
    "model.add(layers.Dense(4, activation='softmax'))  "
   ]
  },
  {
   "cell_type": "code",
   "execution_count": 9,
   "id": "c65d299a",
   "metadata": {},
   "outputs": [],
   "source": [
    "model.compile(optimizer='adam',\n",
    "              loss='categorical_crossentropy',  \n",
    "              metrics=['accuracy'])"
   ]
  },
  {
   "cell_type": "code",
   "execution_count": 10,
   "id": "360004a7",
   "metadata": {},
   "outputs": [
    {
     "name": "stdout",
     "output_type": "stream",
     "text": [
      "Epoch 1/10\n",
      "89/89 [==============================] - 61s 666ms/step - loss: 1.1320 - accuracy: 0.4951 - val_loss: 1.9871 - val_accuracy: 0.3542\n",
      "Epoch 2/10\n",
      "89/89 [==============================] - 53s 595ms/step - loss: 0.7815 - accuracy: 0.6660 - val_loss: 2.5391 - val_accuracy: 0.3698\n",
      "Epoch 3/10\n",
      "89/89 [==============================] - 56s 631ms/step - loss: 0.6463 - accuracy: 0.7329 - val_loss: 2.6701 - val_accuracy: 0.3932\n",
      "Epoch 4/10\n",
      "89/89 [==============================] - 54s 608ms/step - loss: 0.5450 - accuracy: 0.7766 - val_loss: 3.0157 - val_accuracy: 0.4453\n",
      "Epoch 5/10\n",
      "89/89 [==============================] - 59s 662ms/step - loss: 0.4886 - accuracy: 0.8030 - val_loss: 3.4003 - val_accuracy: 0.4844\n",
      "Epoch 6/10\n",
      "89/89 [==============================] - 55s 612ms/step - loss: 0.4462 - accuracy: 0.8147 - val_loss: 3.6256 - val_accuracy: 0.4974\n",
      "Epoch 7/10\n",
      "89/89 [==============================] - 53s 590ms/step - loss: 0.3936 - accuracy: 0.8365 - val_loss: 2.7219 - val_accuracy: 0.5000\n",
      "Epoch 8/10\n",
      "89/89 [==============================] - 53s 596ms/step - loss: 0.3644 - accuracy: 0.8555 - val_loss: 2.5889 - val_accuracy: 0.5547\n",
      "Epoch 9/10\n",
      "89/89 [==============================] - 54s 606ms/step - loss: 0.3231 - accuracy: 0.8693 - val_loss: 3.7137 - val_accuracy: 0.5417\n",
      "Epoch 10/10\n",
      "89/89 [==============================] - 54s 601ms/step - loss: 0.3206 - accuracy: 0.8707 - val_loss: 2.2455 - val_accuracy: 0.5990\n"
     ]
    }
   ],
   "source": [
    "history = model.fit(\n",
    "    train_generator,\n",
    "    steps_per_epoch=train_generator.samples // batch_size,\n",
    "    epochs=epochs,\n",
    "    validation_data=test_generator,\n",
    "    validation_steps=test_generator.samples // batch_size\n",
    ")"
   ]
  },
  {
   "cell_type": "code",
   "execution_count": 11,
   "id": "a1d20562",
   "metadata": {},
   "outputs": [
    {
     "data": {
      "image/png": "[encoded data removed]",
      "text/plain": [
       "<Figure size 640x480 with 1 Axes>"
      ]
     },
     "metadata": {},
     "output_type": "display_data"
    }
   ],
   "source": [
    "# Plot training history\n",
    "plt.plot(history.history['accuracy'], label='accuracy')\n",
    "plt.plot(history.history['val_accuracy'], label='val_accuracy')\n",
    "plt.xlabel('Epoch')\n",
    "plt.ylabel('Accuracy')\n",
    "plt.legend()\n",
    "plt.show()"
   ]
  },
  {
   "cell_type": "code",
   "execution_count": 12,
   "id": "a8565c44",
   "metadata": {},
   "outputs": [
    {
     "name": "stdout",
     "output_type": "stream",
     "text": [
      "13/13 [==============================] - 2s 167ms/step - loss: 2.2779 - accuracy: 0.5964\n",
      "Test accuracy: 0.596446692943573\n"
     ]
    }
   ],
   "source": [
    "test_loss, test_acc = model.evaluate(test_generator)\n",
    "print(f'Test accuracy: {test_acc}')"
   ]
  },
  {
   "cell_type": "code",
   "execution_count": 17,
   "id": "75d0594c",
   "metadata": {},
   "outputs": [
    {
     "name": "stdout",
     "output_type": "stream",
     "text": [
      "1/1 [==============================] - 0s 38ms/step\n",
      "Random Image: image(62).jpg\n",
      "Ground Truth Class: meningioma_tumor\n",
      "Predicted Class: meningioma_tumor\n",
      "Is Correct Prediction? Yes\n"
     ]
    }
   ],
   "source": [
    "import os\n",
    "import random\n",
    "import tensorflow as tf\n",
    "from tensorflow.keras.preprocessing import image\n",
    "import numpy as np\n",
    "\n",
    "# Load the trained model\n",
    "#model = tf.keras.models.load_model('pneumonia_classifier.h5')  # Replace with the actual model file path\n",
    "\n",
    "# Define the path to the directory containing class folders\n",
    "parent_dir = test_dir  # Replace with the actual parent directory path\n",
    "\n",
    "# Get a list of all subdirectories (each subdirectory corresponds to a class)\n",
    "class_folders = [d for d in os.listdir(parent_dir) if os.path.isdir(os.path.join(parent_dir, d))]\n",
    "\n",
    "# Choose a random class folder\n",
    "random_class_folder = random.choice(class_folders)\n",
    "\n",
    "# Construct the full path to a random image within the selected class folder\n",
    "image_dir = os.path.join(parent_dir, random_class_folder)\n",
    "image_files = [f for f in os.listdir(image_dir) if os.path.isfile(os.path.join(image_dir, f))]\n",
    "random_image_file = random.choice(image_files)\n",
    "image_path = os.path.join(image_dir, random_image_file)\n",
    "\n",
    "# Use the class folder name as the ground truth class\n",
    "ground_truth_class = random_class_folder\n",
    "\n",
    "# Load and preprocess the random image\n",
    "img = image.load_img(image_path, target_size=(150, 150))\n",
    "img_array = image.img_to_array(img)\n",
    "img_array = np.expand_dims(img_array, axis=0)\n",
    "img_array /= 255.0  # Normalize the pixel values\n",
    "\n",
    "# Make a prediction\n",
    "predictions = model.predict(img_array)\n",
    "\n",
    "# Get the predicted class index\n",
    "predicted_class_index = np.argmax(predictions, axis=1)[0]\n",
    "\n",
    "# Print the ground truth and predicted classes\n",
    "classes = class_folders  # Use the folder names as class names\n",
    "predicted_class = classes[predicted_class_index]\n",
    "\n",
    "print(f\"Random Image: {random_image_file}\")\n",
    "print(f\"Ground Truth Class: {ground_truth_class}\")\n",
    "print(f\"Predicted Class: {predicted_class}\")\n",
    "\n",
    "# Check if the predicted class is correct\n",
    "is_correct = ground_truth_class == predicted_class\n",
    "print(f\"Is Correct Prediction? {'Yes' if is_correct else 'No'}\")\n"
   ]
  },
  {
   "cell_type": "code",
   "execution_count": null,
   "id": "e5deaf2c",
   "metadata": {},
   "outputs": [],
   "source": []
  },
  {
   "cell_type": "code",
   "execution_count": null,
   "id": "3aa86ca4",
   "metadata": {},
   "outputs": [],
   "source": []
  }
 ],
 "metadata": {
  "kernelspec": {
   "display_name": "Python 3 (ipykernel)",
   "language": "python",
   "name": "python3"
  },
  "language_info": {
   "codemirror_mode": {
    "name": "ipython",
    "version": 3
   },
   "file_extension": ".py",
   "mimetype": "text/x-python",
   "name": "python",
   "nbconvert_exporter": "python",
   "pygments_lexer": "ipython3",
   "version": "3.11.5"
  }
 },
 "nbformat": 4,
 "nbformat_minor": 5
}
